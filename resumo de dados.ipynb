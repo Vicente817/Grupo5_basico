{
 "cells": [
  {
   "cell_type": "markdown",
   "id": "9401364b",
   "metadata": {},
   "source": [
    "## Cria um CSV com apenas os municipios e a média de notas"
   ]
  },
  {
   "cell_type": "code",
   "execution_count": null,
   "id": "b0c0342a",
   "metadata": {},
   "outputs": [],
   "source": [
    "import pandas as pd\n",
    "import numpy as np\n",
    "import unidecode\n",
    "chunks = pd.read_csv(\"C:\\\\Users\\\\vicen\\\\Downloads\\\\MICRODADOS_ENEM_2023.csv\", sep=';', encoding='latin1', chunksize=10000)\n",
    "medianotas = pd.DataFrame()\n",
    "soma = {}\n",
    "contagem = {}\n",
    "for chunk in chunks:\n",
    "    chunk['nota'] = (chunk['NU_NOTA_MT'] + chunk['NU_NOTA_LC'] + chunk['NU_NOTA_CN'] + chunk['NU_NOTA_CH'] + chunk['NU_NOTA_REDACAO']) / 5\n",
    "    agruped = chunk.groupby('NO_MUNICIPIO_ESC')['nota'].agg(['sum', 'count']).reset_index()\n",
    "    for _, row in agruped.iterrows():\n",
    "        municipio = row['NO_MUNICIPIO_ESC']\n",
    "        if pd.isnull(municipio):  # ignora cidades nulas\n",
    "            continue\n",
    "        if municipio not in soma:\n",
    "            soma[municipio] = 0\n",
    "            contagem[municipio] = 0\n",
    "        soma[municipio] += row['sum']\n",
    "        contagem[municipio] += row['count']\n",
    "dados = []\n",
    "for municipio in soma:\n",
    "    if contagem[municipio] > 0:\n",
    "        media = soma[municipio] / contagem[municipio]\n",
    "        dados.append({'NO_MUNICIPIO_ESC': municipio, 'nota': media})\n",
    "medianotas = pd.DataFrame(dados)\n",
    "medianotas['NO_MUNICIPIO_ESC'] = medianotas['NO_MUNICIPIO_ESC'].astype(str).str.upper().str.strip().apply(unidecode.unidecode)\n",
    "medianotas.to_csv(\"medianotas.csv\", index=False)\n"
   ]
  }
 ],
 "metadata": {
  "language_info": {
   "name": "python"
  }
 },
 "nbformat": 4,
 "nbformat_minor": 5
}
